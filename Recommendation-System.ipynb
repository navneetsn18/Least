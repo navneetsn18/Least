{
 "cells": [
  {
   "cell_type": "code",
   "execution_count": 1,
   "metadata": {},
   "outputs": [],
   "source": [
    "#import libararies\n",
    "\n",
    "import numpy as np\n",
    "import pandas as pd"
   ]
  },
  {
   "cell_type": "code",
   "execution_count": 2,
   "metadata": {},
   "outputs": [],
   "source": [
    "items_df = pd.read_csv('data/itemdata.csv',usecols=['itemId','item'],dtype={'itemId': 'int32', 'item': 'str'})\n",
    "rating_df = pd.read_csv('data/ratings.csv',usecols=['userId', 'item', 'rating'],\n",
    "    dtype={'userId': 'str', 'item': 'str', 'rating':'float32'})"
   ]
  },
  {
   "cell_type": "code",
   "execution_count": 3,
   "metadata": {},
   "outputs": [
    {
     "data": {
      "text/html": [
       "<div>\n",
       "<style scoped>\n",
       "    .dataframe tbody tr th:only-of-type {\n",
       "        vertical-align: middle;\n",
       "    }\n",
       "\n",
       "    .dataframe tbody tr th {\n",
       "        vertical-align: top;\n",
       "    }\n",
       "\n",
       "    .dataframe thead th {\n",
       "        text-align: right;\n",
       "    }\n",
       "</style>\n",
       "<table border=\"1\" class=\"dataframe\">\n",
       "  <thead>\n",
       "    <tr style=\"text-align: right;\">\n",
       "      <th></th>\n",
       "      <th>itemId</th>\n",
       "      <th>item</th>\n",
       "    </tr>\n",
       "  </thead>\n",
       "  <tbody>\n",
       "    <tr>\n",
       "      <th>0</th>\n",
       "      <td>1</td>\n",
       "      <td>apple</td>\n",
       "    </tr>\n",
       "    <tr>\n",
       "      <th>1</th>\n",
       "      <td>2</td>\n",
       "      <td>banana</td>\n",
       "    </tr>\n",
       "    <tr>\n",
       "      <th>2</th>\n",
       "      <td>3</td>\n",
       "      <td>bread</td>\n",
       "    </tr>\n",
       "    <tr>\n",
       "      <th>3</th>\n",
       "      <td>4</td>\n",
       "      <td>coffee</td>\n",
       "    </tr>\n",
       "    <tr>\n",
       "      <th>4</th>\n",
       "      <td>5</td>\n",
       "      <td>cream</td>\n",
       "    </tr>\n",
       "  </tbody>\n",
       "</table>\n",
       "</div>"
      ],
      "text/plain": [
       "   itemId    item\n",
       "0       1   apple\n",
       "1       2  banana\n",
       "2       3   bread\n",
       "3       4  coffee\n",
       "4       5   cream"
      ]
     },
     "execution_count": 3,
     "metadata": {},
     "output_type": "execute_result"
    }
   ],
   "source": [
    "items_df.head()"
   ]
  },
  {
   "cell_type": "code",
   "execution_count": 4,
   "metadata": {},
   "outputs": [
    {
     "data": {
      "text/html": [
       "<div>\n",
       "<style scoped>\n",
       "    .dataframe tbody tr th:only-of-type {\n",
       "        vertical-align: middle;\n",
       "    }\n",
       "\n",
       "    .dataframe tbody tr th {\n",
       "        vertical-align: top;\n",
       "    }\n",
       "\n",
       "    .dataframe thead th {\n",
       "        text-align: right;\n",
       "    }\n",
       "</style>\n",
       "<table border=\"1\" class=\"dataframe\">\n",
       "  <thead>\n",
       "    <tr style=\"text-align: right;\">\n",
       "      <th></th>\n",
       "      <th>userId</th>\n",
       "      <th>item</th>\n",
       "      <th>rating</th>\n",
       "    </tr>\n",
       "  </thead>\n",
       "  <tbody>\n",
       "    <tr>\n",
       "      <th>0</th>\n",
       "      <td>0I9ZfPXjTud0C2ovAmQKYa41dRa2</td>\n",
       "      <td>milk</td>\n",
       "      <td>10.0</td>\n",
       "    </tr>\n",
       "    <tr>\n",
       "      <th>1</th>\n",
       "      <td>0I9ZfPXjTud0C2ovAmQKYa41dRa2</td>\n",
       "      <td>apple</td>\n",
       "      <td>2.0</td>\n",
       "    </tr>\n",
       "    <tr>\n",
       "      <th>2</th>\n",
       "      <td>0I9ZfPXjTud0C2ovAmQKYa41dRa2</td>\n",
       "      <td>bread</td>\n",
       "      <td>6.0</td>\n",
       "    </tr>\n",
       "    <tr>\n",
       "      <th>3</th>\n",
       "      <td>0I9ZfPXjTud0C2ovAmQKYa41dRa2</td>\n",
       "      <td>banana</td>\n",
       "      <td>4.0</td>\n",
       "    </tr>\n",
       "    <tr>\n",
       "      <th>4</th>\n",
       "      <td>0I9ZfPXjTud0C2ovAmQKYa41dRa2</td>\n",
       "      <td>coffee</td>\n",
       "      <td>2.0</td>\n",
       "    </tr>\n",
       "    <tr>\n",
       "      <th>5</th>\n",
       "      <td>CUZ7QpBGv7UUNLiWzxV7</td>\n",
       "      <td>cream</td>\n",
       "      <td>5.0</td>\n",
       "    </tr>\n",
       "    <tr>\n",
       "      <th>6</th>\n",
       "      <td>CUZ7QpBGv7UUNLiWzxV7</td>\n",
       "      <td>coffee</td>\n",
       "      <td>5.0</td>\n",
       "    </tr>\n",
       "    <tr>\n",
       "      <th>7</th>\n",
       "      <td>CUZ7QpBGv7UUNLiWzxV7</td>\n",
       "      <td>milk</td>\n",
       "      <td>7.5</td>\n",
       "    </tr>\n",
       "    <tr>\n",
       "      <th>8</th>\n",
       "      <td>CUZ7QpBGv7UUNLiWzxV7</td>\n",
       "      <td>bread</td>\n",
       "      <td>7.5</td>\n",
       "    </tr>\n",
       "    <tr>\n",
       "      <th>9</th>\n",
       "      <td>g9MoGb4BWUSqcJnfpeJr</td>\n",
       "      <td>milk</td>\n",
       "      <td>5.0</td>\n",
       "    </tr>\n",
       "    <tr>\n",
       "      <th>10</th>\n",
       "      <td>g9MoGb4BWUSqcJnfpeJr</td>\n",
       "      <td>coffee</td>\n",
       "      <td>2.5</td>\n",
       "    </tr>\n",
       "    <tr>\n",
       "      <th>11</th>\n",
       "      <td>g9MoGb4BWUSqcJnfpeJr</td>\n",
       "      <td>cream</td>\n",
       "      <td>2.5</td>\n",
       "    </tr>\n",
       "    <tr>\n",
       "      <th>12</th>\n",
       "      <td>g9MoGb4BWUSqcJnfpeJr</td>\n",
       "      <td>bread</td>\n",
       "      <td>2.5</td>\n",
       "    </tr>\n",
       "    <tr>\n",
       "      <th>13</th>\n",
       "      <td>mmvXi8uCYs3aKCOa8ugb</td>\n",
       "      <td>sugar</td>\n",
       "      <td>10.0</td>\n",
       "    </tr>\n",
       "  </tbody>\n",
       "</table>\n",
       "</div>"
      ],
      "text/plain": [
       "                          userId    item  rating\n",
       "0   0I9ZfPXjTud0C2ovAmQKYa41dRa2    milk    10.0\n",
       "1   0I9ZfPXjTud0C2ovAmQKYa41dRa2   apple     2.0\n",
       "2   0I9ZfPXjTud0C2ovAmQKYa41dRa2   bread     6.0\n",
       "3   0I9ZfPXjTud0C2ovAmQKYa41dRa2  banana     4.0\n",
       "4   0I9ZfPXjTud0C2ovAmQKYa41dRa2  coffee     2.0\n",
       "5           CUZ7QpBGv7UUNLiWzxV7   cream     5.0\n",
       "6           CUZ7QpBGv7UUNLiWzxV7  coffee     5.0\n",
       "7           CUZ7QpBGv7UUNLiWzxV7    milk     7.5\n",
       "8           CUZ7QpBGv7UUNLiWzxV7   bread     7.5\n",
       "9           g9MoGb4BWUSqcJnfpeJr    milk     5.0\n",
       "10          g9MoGb4BWUSqcJnfpeJr  coffee     2.5\n",
       "11          g9MoGb4BWUSqcJnfpeJr   cream     2.5\n",
       "12          g9MoGb4BWUSqcJnfpeJr   bread     2.5\n",
       "13          mmvXi8uCYs3aKCOa8ugb   sugar    10.0"
      ]
     },
     "execution_count": 4,
     "metadata": {},
     "output_type": "execute_result"
    }
   ],
   "source": [
    "rating_df"
   ]
  },
  {
   "cell_type": "code",
   "execution_count": 5,
   "metadata": {},
   "outputs": [
    {
     "data": {
      "text/html": [
       "<div>\n",
       "<style scoped>\n",
       "    .dataframe tbody tr th:only-of-type {\n",
       "        vertical-align: middle;\n",
       "    }\n",
       "\n",
       "    .dataframe tbody tr th {\n",
       "        vertical-align: top;\n",
       "    }\n",
       "\n",
       "    .dataframe thead th {\n",
       "        text-align: right;\n",
       "    }\n",
       "</style>\n",
       "<table border=\"1\" class=\"dataframe\">\n",
       "  <thead>\n",
       "    <tr style=\"text-align: right;\">\n",
       "      <th></th>\n",
       "      <th>userId</th>\n",
       "      <th>item</th>\n",
       "      <th>rating</th>\n",
       "      <th>itemId</th>\n",
       "    </tr>\n",
       "  </thead>\n",
       "  <tbody>\n",
       "    <tr>\n",
       "      <th>0</th>\n",
       "      <td>0I9ZfPXjTud0C2ovAmQKYa41dRa2</td>\n",
       "      <td>milk</td>\n",
       "      <td>10.0</td>\n",
       "      <td>6</td>\n",
       "    </tr>\n",
       "    <tr>\n",
       "      <th>1</th>\n",
       "      <td>CUZ7QpBGv7UUNLiWzxV7</td>\n",
       "      <td>milk</td>\n",
       "      <td>7.5</td>\n",
       "      <td>6</td>\n",
       "    </tr>\n",
       "    <tr>\n",
       "      <th>2</th>\n",
       "      <td>g9MoGb4BWUSqcJnfpeJr</td>\n",
       "      <td>milk</td>\n",
       "      <td>5.0</td>\n",
       "      <td>6</td>\n",
       "    </tr>\n",
       "    <tr>\n",
       "      <th>3</th>\n",
       "      <td>0I9ZfPXjTud0C2ovAmQKYa41dRa2</td>\n",
       "      <td>apple</td>\n",
       "      <td>2.0</td>\n",
       "      <td>1</td>\n",
       "    </tr>\n",
       "    <tr>\n",
       "      <th>4</th>\n",
       "      <td>0I9ZfPXjTud0C2ovAmQKYa41dRa2</td>\n",
       "      <td>bread</td>\n",
       "      <td>6.0</td>\n",
       "      <td>3</td>\n",
       "    </tr>\n",
       "  </tbody>\n",
       "</table>\n",
       "</div>"
      ],
      "text/plain": [
       "                         userId   item  rating  itemId\n",
       "0  0I9ZfPXjTud0C2ovAmQKYa41dRa2   milk    10.0       6\n",
       "1          CUZ7QpBGv7UUNLiWzxV7   milk     7.5       6\n",
       "2          g9MoGb4BWUSqcJnfpeJr   milk     5.0       6\n",
       "3  0I9ZfPXjTud0C2ovAmQKYa41dRa2  apple     2.0       1\n",
       "4  0I9ZfPXjTud0C2ovAmQKYa41dRa2  bread     6.0       3"
      ]
     },
     "execution_count": 5,
     "metadata": {},
     "output_type": "execute_result"
    }
   ],
   "source": [
    "df = pd.merge(rating_df,items_df,on='item')\n",
    "df.head()"
   ]
  },
  {
   "cell_type": "code",
   "execution_count": 6,
   "metadata": {},
   "outputs": [
    {
     "data": {
      "text/html": [
       "<div>\n",
       "<style scoped>\n",
       "    .dataframe tbody tr th:only-of-type {\n",
       "        vertical-align: middle;\n",
       "    }\n",
       "\n",
       "    .dataframe tbody tr th {\n",
       "        vertical-align: top;\n",
       "    }\n",
       "\n",
       "    .dataframe thead th {\n",
       "        text-align: right;\n",
       "    }\n",
       "</style>\n",
       "<table border=\"1\" class=\"dataframe\">\n",
       "  <thead>\n",
       "    <tr style=\"text-align: right;\">\n",
       "      <th></th>\n",
       "      <th>item</th>\n",
       "      <th>totalRatingCount</th>\n",
       "    </tr>\n",
       "  </thead>\n",
       "  <tbody>\n",
       "    <tr>\n",
       "      <th>0</th>\n",
       "      <td>apple</td>\n",
       "      <td>1</td>\n",
       "    </tr>\n",
       "    <tr>\n",
       "      <th>1</th>\n",
       "      <td>banana</td>\n",
       "      <td>1</td>\n",
       "    </tr>\n",
       "    <tr>\n",
       "      <th>2</th>\n",
       "      <td>bread</td>\n",
       "      <td>3</td>\n",
       "    </tr>\n",
       "    <tr>\n",
       "      <th>3</th>\n",
       "      <td>coffee</td>\n",
       "      <td>3</td>\n",
       "    </tr>\n",
       "    <tr>\n",
       "      <th>4</th>\n",
       "      <td>cream</td>\n",
       "      <td>2</td>\n",
       "    </tr>\n",
       "  </tbody>\n",
       "</table>\n",
       "</div>"
      ],
      "text/plain": [
       "     item  totalRatingCount\n",
       "0   apple                 1\n",
       "1  banana                 1\n",
       "2   bread                 3\n",
       "3  coffee                 3\n",
       "4   cream                 2"
      ]
     },
     "execution_count": 6,
     "metadata": {},
     "output_type": "execute_result"
    }
   ],
   "source": [
    "combine_item_rating = df.dropna(axis = 0, subset = ['item'])\n",
    "item_ratingCount = (combine_item_rating.\n",
    "     groupby(by = ['item'])['rating'].\n",
    "     count().\n",
    "     reset_index().\n",
    "     rename(columns = {'rating': 'totalRatingCount'})\n",
    "     [['item', 'totalRatingCount']]\n",
    "    )\n",
    "item_ratingCount.head()\n",
    "\n"
   ]
  },
  {
   "cell_type": "code",
   "execution_count": 7,
   "metadata": {},
   "outputs": [
    {
     "data": {
      "text/html": [
       "<div>\n",
       "<style scoped>\n",
       "    .dataframe tbody tr th:only-of-type {\n",
       "        vertical-align: middle;\n",
       "    }\n",
       "\n",
       "    .dataframe tbody tr th {\n",
       "        vertical-align: top;\n",
       "    }\n",
       "\n",
       "    .dataframe thead th {\n",
       "        text-align: right;\n",
       "    }\n",
       "</style>\n",
       "<table border=\"1\" class=\"dataframe\">\n",
       "  <thead>\n",
       "    <tr style=\"text-align: right;\">\n",
       "      <th></th>\n",
       "      <th>userId</th>\n",
       "      <th>item</th>\n",
       "      <th>rating</th>\n",
       "      <th>itemId</th>\n",
       "      <th>totalRatingCount</th>\n",
       "    </tr>\n",
       "  </thead>\n",
       "  <tbody>\n",
       "    <tr>\n",
       "      <th>0</th>\n",
       "      <td>0I9ZfPXjTud0C2ovAmQKYa41dRa2</td>\n",
       "      <td>milk</td>\n",
       "      <td>10.0</td>\n",
       "      <td>6</td>\n",
       "      <td>3</td>\n",
       "    </tr>\n",
       "    <tr>\n",
       "      <th>1</th>\n",
       "      <td>CUZ7QpBGv7UUNLiWzxV7</td>\n",
       "      <td>milk</td>\n",
       "      <td>7.5</td>\n",
       "      <td>6</td>\n",
       "      <td>3</td>\n",
       "    </tr>\n",
       "    <tr>\n",
       "      <th>2</th>\n",
       "      <td>g9MoGb4BWUSqcJnfpeJr</td>\n",
       "      <td>milk</td>\n",
       "      <td>5.0</td>\n",
       "      <td>6</td>\n",
       "      <td>3</td>\n",
       "    </tr>\n",
       "    <tr>\n",
       "      <th>3</th>\n",
       "      <td>0I9ZfPXjTud0C2ovAmQKYa41dRa2</td>\n",
       "      <td>apple</td>\n",
       "      <td>2.0</td>\n",
       "      <td>1</td>\n",
       "      <td>1</td>\n",
       "    </tr>\n",
       "    <tr>\n",
       "      <th>4</th>\n",
       "      <td>0I9ZfPXjTud0C2ovAmQKYa41dRa2</td>\n",
       "      <td>bread</td>\n",
       "      <td>6.0</td>\n",
       "      <td>3</td>\n",
       "      <td>3</td>\n",
       "    </tr>\n",
       "  </tbody>\n",
       "</table>\n",
       "</div>"
      ],
      "text/plain": [
       "                         userId   item  rating  itemId  totalRatingCount\n",
       "0  0I9ZfPXjTud0C2ovAmQKYa41dRa2   milk    10.0       6                 3\n",
       "1          CUZ7QpBGv7UUNLiWzxV7   milk     7.5       6                 3\n",
       "2          g9MoGb4BWUSqcJnfpeJr   milk     5.0       6                 3\n",
       "3  0I9ZfPXjTud0C2ovAmQKYa41dRa2  apple     2.0       1                 1\n",
       "4  0I9ZfPXjTud0C2ovAmQKYa41dRa2  bread     6.0       3                 3"
      ]
     },
     "execution_count": 7,
     "metadata": {},
     "output_type": "execute_result"
    }
   ],
   "source": [
    "rating_with_totalRatingCount = combine_item_rating.merge(item_ratingCount, left_on = 'item', right_on = 'item', how = 'left')\n",
    "rating_with_totalRatingCount.head()"
   ]
  },
  {
   "cell_type": "code",
   "execution_count": 8,
   "metadata": {},
   "outputs": [
    {
     "name": "stdout",
     "output_type": "stream",
     "text": [
      "count   7.000\n",
      "mean    2.000\n",
      "std     1.000\n",
      "min     1.000\n",
      "25%     1.000\n",
      "50%     2.000\n",
      "75%     3.000\n",
      "max     3.000\n",
      "Name: totalRatingCount, dtype: float64\n"
     ]
    }
   ],
   "source": [
    "pd.set_option('display.float_format', lambda x: '%.3f' % x)\n",
    "print(item_ratingCount['totalRatingCount'].describe())"
   ]
  },
  {
   "cell_type": "code",
   "execution_count": 9,
   "metadata": {},
   "outputs": [
    {
     "data": {
      "text/html": [
       "<div>\n",
       "<style scoped>\n",
       "    .dataframe tbody tr th:only-of-type {\n",
       "        vertical-align: middle;\n",
       "    }\n",
       "\n",
       "    .dataframe tbody tr th {\n",
       "        vertical-align: top;\n",
       "    }\n",
       "\n",
       "    .dataframe thead th {\n",
       "        text-align: right;\n",
       "    }\n",
       "</style>\n",
       "<table border=\"1\" class=\"dataframe\">\n",
       "  <thead>\n",
       "    <tr style=\"text-align: right;\">\n",
       "      <th></th>\n",
       "      <th>userId</th>\n",
       "      <th>item</th>\n",
       "      <th>rating</th>\n",
       "      <th>itemId</th>\n",
       "      <th>totalRatingCount</th>\n",
       "    </tr>\n",
       "  </thead>\n",
       "  <tbody>\n",
       "    <tr>\n",
       "      <th>0</th>\n",
       "      <td>0I9ZfPXjTud0C2ovAmQKYa41dRa2</td>\n",
       "      <td>milk</td>\n",
       "      <td>10.000</td>\n",
       "      <td>6</td>\n",
       "      <td>3</td>\n",
       "    </tr>\n",
       "    <tr>\n",
       "      <th>1</th>\n",
       "      <td>CUZ7QpBGv7UUNLiWzxV7</td>\n",
       "      <td>milk</td>\n",
       "      <td>7.500</td>\n",
       "      <td>6</td>\n",
       "      <td>3</td>\n",
       "    </tr>\n",
       "    <tr>\n",
       "      <th>2</th>\n",
       "      <td>g9MoGb4BWUSqcJnfpeJr</td>\n",
       "      <td>milk</td>\n",
       "      <td>5.000</td>\n",
       "      <td>6</td>\n",
       "      <td>3</td>\n",
       "    </tr>\n",
       "    <tr>\n",
       "      <th>4</th>\n",
       "      <td>0I9ZfPXjTud0C2ovAmQKYa41dRa2</td>\n",
       "      <td>bread</td>\n",
       "      <td>6.000</td>\n",
       "      <td>3</td>\n",
       "      <td>3</td>\n",
       "    </tr>\n",
       "    <tr>\n",
       "      <th>5</th>\n",
       "      <td>CUZ7QpBGv7UUNLiWzxV7</td>\n",
       "      <td>bread</td>\n",
       "      <td>7.500</td>\n",
       "      <td>3</td>\n",
       "      <td>3</td>\n",
       "    </tr>\n",
       "  </tbody>\n",
       "</table>\n",
       "</div>"
      ],
      "text/plain": [
       "                         userId   item  rating  itemId  totalRatingCount\n",
       "0  0I9ZfPXjTud0C2ovAmQKYa41dRa2   milk  10.000       6                 3\n",
       "1          CUZ7QpBGv7UUNLiWzxV7   milk   7.500       6                 3\n",
       "2          g9MoGb4BWUSqcJnfpeJr   milk   5.000       6                 3\n",
       "4  0I9ZfPXjTud0C2ovAmQKYa41dRa2  bread   6.000       3                 3\n",
       "5          CUZ7QpBGv7UUNLiWzxV7  bread   7.500       3                 3"
      ]
     },
     "execution_count": 9,
     "metadata": {},
     "output_type": "execute_result"
    }
   ],
   "source": [
    "popularity_threshold = 2\n",
    "rating_popular_item= rating_with_totalRatingCount.query('totalRatingCount >= @popularity_threshold')\n",
    "rating_popular_item.head()"
   ]
  },
  {
   "cell_type": "code",
   "execution_count": 10,
   "metadata": {},
   "outputs": [
    {
     "data": {
      "text/plain": [
       "(11, 5)"
      ]
     },
     "execution_count": 10,
     "metadata": {},
     "output_type": "execute_result"
    }
   ],
   "source": [
    "rating_popular_item.shape"
   ]
  },
  {
   "cell_type": "code",
   "execution_count": 18,
   "metadata": {},
   "outputs": [
    {
     "data": {
      "text/html": [
       "<div>\n",
       "<style scoped>\n",
       "    .dataframe tbody tr th:only-of-type {\n",
       "        vertical-align: middle;\n",
       "    }\n",
       "\n",
       "    .dataframe tbody tr th {\n",
       "        vertical-align: top;\n",
       "    }\n",
       "\n",
       "    .dataframe thead th {\n",
       "        text-align: right;\n",
       "    }\n",
       "</style>\n",
       "<table border=\"1\" class=\"dataframe\">\n",
       "  <thead>\n",
       "    <tr style=\"text-align: right;\">\n",
       "      <th>userId</th>\n",
       "      <th>0I9ZfPXjTud0C2ovAmQKYa41dRa2</th>\n",
       "      <th>CUZ7QpBGv7UUNLiWzxV7</th>\n",
       "      <th>g9MoGb4BWUSqcJnfpeJr</th>\n",
       "    </tr>\n",
       "    <tr>\n",
       "      <th>item</th>\n",
       "      <th></th>\n",
       "      <th></th>\n",
       "      <th></th>\n",
       "    </tr>\n",
       "  </thead>\n",
       "  <tbody>\n",
       "    <tr>\n",
       "      <th>bread</th>\n",
       "      <td>6.000</td>\n",
       "      <td>7.500</td>\n",
       "      <td>2.500</td>\n",
       "    </tr>\n",
       "    <tr>\n",
       "      <th>coffee</th>\n",
       "      <td>2.000</td>\n",
       "      <td>5.000</td>\n",
       "      <td>2.500</td>\n",
       "    </tr>\n",
       "    <tr>\n",
       "      <th>cream</th>\n",
       "      <td>0.000</td>\n",
       "      <td>5.000</td>\n",
       "      <td>2.500</td>\n",
       "    </tr>\n",
       "    <tr>\n",
       "      <th>milk</th>\n",
       "      <td>10.000</td>\n",
       "      <td>7.500</td>\n",
       "      <td>5.000</td>\n",
       "    </tr>\n",
       "  </tbody>\n",
       "</table>\n",
       "</div>"
      ],
      "text/plain": [
       "userId  0I9ZfPXjTud0C2ovAmQKYa41dRa2  CUZ7QpBGv7UUNLiWzxV7  \\\n",
       "item                                                         \n",
       "bread                          6.000                 7.500   \n",
       "coffee                         2.000                 5.000   \n",
       "cream                          0.000                 5.000   \n",
       "milk                          10.000                 7.500   \n",
       "\n",
       "userId  g9MoGb4BWUSqcJnfpeJr  \n",
       "item                          \n",
       "bread                  2.500  \n",
       "coffee                 2.500  \n",
       "cream                  2.500  \n",
       "milk                   5.000  "
      ]
     },
     "execution_count": 18,
     "metadata": {},
     "output_type": "execute_result"
    }
   ],
   "source": [
    "## First lets create a Pivot matrix\n",
    "\n",
    "item_features_df=rating_popular_item.pivot_table(index='item',columns='userId',values='rating').fillna(0)\n",
    "item_features_df.head()"
   ]
  },
  {
   "cell_type": "code",
   "execution_count": 12,
   "metadata": {},
   "outputs": [
    {
     "data": {
      "text/plain": [
       "NearestNeighbors(algorithm='brute', metric='cosine')"
      ]
     },
     "execution_count": 12,
     "metadata": {},
     "output_type": "execute_result"
    }
   ],
   "source": [
    "from scipy.sparse import csr_matrix\n",
    "\n",
    "item_features_df_matrix = csr_matrix(item_features_df.values)\n",
    "\n",
    "from sklearn.neighbors import NearestNeighbors\n",
    "\n",
    "\n",
    "model_knn = NearestNeighbors(metric = 'cosine', algorithm = 'brute')\n",
    "model_knn.fit(item_features_df_matrix)"
   ]
  },
  {
   "cell_type": "code",
   "execution_count": 13,
   "metadata": {},
   "outputs": [
    {
     "data": {
      "text/plain": [
       "(4, 3)"
      ]
     },
     "execution_count": 13,
     "metadata": {},
     "output_type": "execute_result"
    }
   ],
   "source": [
    "item_features_df.shape"
   ]
  },
  {
   "cell_type": "code",
   "execution_count": 28,
   "metadata": {},
   "outputs": [
    {
     "name": "stdout",
     "output_type": "stream",
     "text": [
      "2\n"
     ]
    }
   ],
   "source": [
    "query_index = np.random.choice(item_features_df.shape[0])\n",
    "print(query_index)\n",
    "distances, indices = model_knn.kneighbors(item_features_df.iloc[query_index,:].values.reshape(1, -1), n_neighbors = 2)"
   ]
  },
  {
   "cell_type": "code",
   "execution_count": 33,
   "metadata": {},
   "outputs": [
    {
     "data": {
      "text/html": [
       "<div>\n",
       "<style scoped>\n",
       "    .dataframe tbody tr th:only-of-type {\n",
       "        vertical-align: middle;\n",
       "    }\n",
       "\n",
       "    .dataframe tbody tr th {\n",
       "        vertical-align: top;\n",
       "    }\n",
       "\n",
       "    .dataframe thead th {\n",
       "        text-align: right;\n",
       "    }\n",
       "</style>\n",
       "<table border=\"1\" class=\"dataframe\">\n",
       "  <thead>\n",
       "    <tr style=\"text-align: right;\">\n",
       "      <th>userId</th>\n",
       "      <th>0I9ZfPXjTud0C2ovAmQKYa41dRa2</th>\n",
       "      <th>CUZ7QpBGv7UUNLiWzxV7</th>\n",
       "      <th>g9MoGb4BWUSqcJnfpeJr</th>\n",
       "    </tr>\n",
       "    <tr>\n",
       "      <th>item</th>\n",
       "      <th></th>\n",
       "      <th></th>\n",
       "      <th></th>\n",
       "    </tr>\n",
       "  </thead>\n",
       "  <tbody>\n",
       "    <tr>\n",
       "      <th>bread</th>\n",
       "      <td>6.000</td>\n",
       "      <td>7.500</td>\n",
       "      <td>2.500</td>\n",
       "    </tr>\n",
       "    <tr>\n",
       "      <th>coffee</th>\n",
       "      <td>2.000</td>\n",
       "      <td>5.000</td>\n",
       "      <td>2.500</td>\n",
       "    </tr>\n",
       "    <tr>\n",
       "      <th>cream</th>\n",
       "      <td>0.000</td>\n",
       "      <td>5.000</td>\n",
       "      <td>2.500</td>\n",
       "    </tr>\n",
       "    <tr>\n",
       "      <th>milk</th>\n",
       "      <td>10.000</td>\n",
       "      <td>7.500</td>\n",
       "      <td>5.000</td>\n",
       "    </tr>\n",
       "  </tbody>\n",
       "</table>\n",
       "</div>"
      ],
      "text/plain": [
       "userId  0I9ZfPXjTud0C2ovAmQKYa41dRa2  CUZ7QpBGv7UUNLiWzxV7  \\\n",
       "item                                                         \n",
       "bread                          6.000                 7.500   \n",
       "coffee                         2.000                 5.000   \n",
       "cream                          0.000                 5.000   \n",
       "milk                          10.000                 7.500   \n",
       "\n",
       "userId  g9MoGb4BWUSqcJnfpeJr  \n",
       "item                          \n",
       "bread                  2.500  \n",
       "coffee                 2.500  \n",
       "cream                  2.500  \n",
       "milk                   5.000  "
      ]
     },
     "execution_count": 33,
     "metadata": {},
     "output_type": "execute_result"
    }
   ],
   "source": [
    "item_features_df.head()"
   ]
  },
  {
   "cell_type": "code",
   "execution_count": 30,
   "metadata": {},
   "outputs": [
    {
     "name": "stdout",
     "output_type": "stream",
     "text": [
      "Recommendations for cream:\n",
      "\n",
      "1: coffee, with distance of 0.05844557285308838:\n"
     ]
    }
   ],
   "source": [
    "for i in range(0, len(distances.flatten())):\n",
    "    if i == 0:\n",
    "        print('Recommendations for {0}:\\n'.format(item_features_df.index[query_index]))\n",
    "    else:\n",
    "        print('{0}: {1}, with distance of {2}:'.format(i, item_features_df.index[indices.flatten()[i]], distances.flatten()[i]))"
   ]
  },
  {
   "cell_type": "code",
   "execution_count": null,
   "metadata": {},
   "outputs": [],
   "source": []
  }
 ],
 "metadata": {
  "kernelspec": {
   "display_name": "Python 3",
   "language": "python",
   "name": "python3"
  },
  "language_info": {
   "codemirror_mode": {
    "name": "ipython",
    "version": 3
   },
   "file_extension": ".py",
   "mimetype": "text/x-python",
   "name": "python",
   "nbconvert_exporter": "python",
   "pygments_lexer": "ipython3",
   "version": "3.8.5"
  }
 },
 "nbformat": 4,
 "nbformat_minor": 4
}
